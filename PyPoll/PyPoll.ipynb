{
 "cells": [
  {
   "cell_type": "code",
   "execution_count": 11,
   "metadata": {},
   "outputs": [],
   "source": [
    "#This script analyses the file election_data.csv in the Resources folder\n",
    "import os\n",
    "import csv\n",
    "#Set the file path for import\n",
    "source_path = os.path.join('Resources', 'election_data.csv')"
   ]
  },
  {
   "cell_type": "code",
   "execution_count": 13,
   "metadata": {},
   "outputs": [],
   "source": [
    "#Read the csv file into a dataset\n",
    "with open(source_path, newline='') as f:\n",
    "    dataset = csv.reader(f, delimiter=',')\n",
    "    next(dataset, None)\n",
    "#Create place holders for the data output\n",
    "    candidates = [] #Will hold unique list of all candidates\n",
    "    votes_per_candidate = [] #Will hold the total votes per candidate\n",
    "    percentages = [] #Will hold the percentage of total votes per candidate\n",
    "    total_votes = 0 #Will iterate through data and total number of votes\n",
    "    output_lines = [] #Will hold formatted output data for each candidate\n",
    "    \n",
    "    for row in dataset:\n",
    "        total_votes += 1\n",
    "        #If a candidate has not yet been added to the list, add them\n",
    "        if row[2] not in candidates:\n",
    "            candidates.append(row[2])\n",
    "            votes_per_candidate.append(1)\n",
    "        #Otherwise, add one for the candidate in the same index in the votes list\n",
    "        else:\n",
    "            votes_per_candidate[candidates.index(row[2])] += 1\n"
   ]
  },
  {
   "cell_type": "code",
   "execution_count": 14,
   "metadata": {},
   "outputs": [],
   "source": [
    "#After totals have been calculated, determine the percentage of votes per candidate\n",
    "\n",
    "percentages = [(votes_per_candidate[candidates.index(item)] * 100/total_votes) for item in candidates]"
   ]
  },
  {
   "cell_type": "code",
   "execution_count": 15,
   "metadata": {},
   "outputs": [],
   "source": [
    "#Return the name of the candidate with max votes\n",
    "winner = candidates[votes_per_candidate.index(max(votes_per_candidate))]"
   ]
  },
  {
   "cell_type": "code",
   "execution_count": 16,
   "metadata": {},
   "outputs": [],
   "source": [
    "#Zip up the three lists for easier output\n",
    "for i in zip(candidates, percentages, votes_per_candidate):\n",
    "    output_lines.append(i[0] + \": \" + str(format(i[1], '.3f')) + \"% (\" + str(i[2]) + \")\")"
   ]
  },
  {
   "cell_type": "code",
   "execution_count": 17,
   "metadata": {
    "scrolled": true
   },
   "outputs": [
    {
     "name": "stdout",
     "output_type": "stream",
     "text": [
      "\n",
      "Election Results\n",
      "-------------------------\n",
      "Total Votes: 3521001\n",
      "-------------------------\n",
      "\n",
      "Khan: 63.000% (2218231)\n",
      "Correy: 20.000% (704200)\n",
      "Li: 14.000% (492940)\n",
      "O'Tooley: 3.000% (105630)\n",
      "-------------------------\n",
      "Winner: Khan\n",
      "-------------------------\n",
      "\n"
     ]
    }
   ],
   "source": [
    "#Print the formatted data to the terminal\n",
    "output1 = (f\"\\nElection Results\\n-------------------------\\nTotal Votes: {total_votes}\\n-------------------------\\n\")\n",
    "output2 = (f\"-------------------------\\nWinner: {winner}\\n-------------------------\\n\")\n",
    "\n",
    "print(output1)\n",
    "print(*output_lines, sep='\\n')\n",
    "print(output2)"
   ]
  },
  {
   "cell_type": "code",
   "execution_count": 18,
   "metadata": {},
   "outputs": [],
   "source": [
    "with open('election_results.txt', 'w') as f:\n",
    "    f.write(output1)\n",
    "    for line in output_lines:\n",
    "        f.write(line + '\\n')\n",
    "    f.write(output2)\n",
    "    f.close()\n"
   ]
  },
  {
   "cell_type": "code",
   "execution_count": null,
   "metadata": {},
   "outputs": [],
   "source": []
  }
 ],
 "metadata": {
  "kernelspec": {
   "display_name": "Python 3",
   "language": "python",
   "name": "python3"
  },
  "language_info": {
   "codemirror_mode": {
    "name": "ipython",
    "version": 3
   },
   "file_extension": ".py",
   "mimetype": "text/x-python",
   "name": "python",
   "nbconvert_exporter": "python",
   "pygments_lexer": "ipython3",
   "version": "3.6.6"
  }
 },
 "nbformat": 4,
 "nbformat_minor": 2
}
