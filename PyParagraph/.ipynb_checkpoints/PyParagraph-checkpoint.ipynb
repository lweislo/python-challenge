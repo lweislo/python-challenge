{
 "cells": [
  {
   "cell_type": "code",
   "execution_count": 57,
   "metadata": {},
   "outputs": [],
   "source": [
    "#This script examines the word, sentence, and character counts in a body of text\n",
    "import re\n",
    "import os\n",
    "\n",
    "file_path = os.path.join(\"raw_data\", \"paragraph_2.txt\")"
   ]
  },
  {
   "cell_type": "code",
   "execution_count": 67,
   "metadata": {
    "scrolled": true
   },
   "outputs": [
    {
     "name": "stdout",
     "output_type": "stream",
     "text": [
      "14\n",
      "[['When', 'Jackie', 'Chan', 'saw', 'an', 'Oscar', 'at', 'Sylvester', \"Stallone's\", 'house', '23', 'years', 'ago,', 'he', 'said', 'that', 'was', 'the', 'moment', 'he', 'decided', 'he', 'wanted', 'one'], ['\\n\\nOn', 'Saturday', 'at', 'the', 'annual', 'Governors', 'Awards,', 'the', 'Chinese', 'actor', 'and', 'martial', 'arts', 'star', 'finally', 'received', 'his', 'little', 'gold', 'statuette,', 'an', 'honorary', 'Oscar', 'for', 'his', 'decades', 'of', 'work', 'in', 'film'], ['\\n\\n\"After', '56', 'years', 'in', 'the', 'film', 'industry,', 'making', 'more', 'than', '200', 'films,', 'after', 'so', 'many', 'bones,', 'finally,\"', 'Chan,', '62,', 'quipped', 'at', 'the', 'star-studded', 'gala', 'dinner', 'while', 'holding', 'his', 'Oscar'], ['\\n\\nThe', 'actor', 'recalled', 'watching', 'the', 'ceremony', 'with', 'his', 'parents', 'and', 'his', 'father', 'always', 'asking', 'him', 'why', 'he', \"didn't\", 'have', \"Hollywood's\", 'top', 'accolade', 'despite', 'having', 'made', 'so', 'many', 'movies'], ['\\n\\nHe', 'praised', 'his', 'hometown', 'Hong', 'Kong', 'for', 'making', 'him', '\"proud', 'to', 'be', 'Chinese,\"', 'and', 'thanked', 'his', 'fans,', 'saying', 'they', 'were', 'the', 'reason', '\"I', 'continue', 'to', 'make', 'movies,', 'jumping', 'through', 'windows,', 'kicking', 'and', 'punching,', 'breaking', 'my', 'bones'], [''], ['The', 'actor', 'was', 'introduced', 'by', 'his', '\"Rush', 'Hour\"', 'co-star', 'Chris', 'Tucker,', 'actress', 'Michelle', 'Yeoh', 'and', 'Tom', 'Hanks,', 'who', 'referred', 'to', 'him', 'as', '\"Jackie', \"'Chantastic'\", 'Chan'], [''], ['Hanks', 'said', 'it', 'was', 'especially', 'gratifying', 'to', 'be', 'able', 'to', 'acknowledge', \"Chan's\", 'work', 'because', 'martial', 'arts', 'and', 'action', 'comedy', 'films', 'were', 'two', 'genres', 'often', 'overlooked', 'during', 'awards', 'season'], ['\\n\\nThe', 'Academy', 'of', 'Motion', 'Pictures', 'Arts', 'and', 'Sciences,', 'hosts', 'of', 'the', 'annual', 'ceremony,', 'also', 'bestowed', 'honorary', 'Oscars', 'on', 'British', 'film', 'editor', 'Anne', 'V'], ['', 'Coates,', 'casting', 'director', 'Lynn', 'Stalmaster', 'and', 'prolific', 'documentarian', 'Frederick', 'Wiseman'], ['\\n\\nThe', 'evening', 'was', 'attended', 'by', \"Hollywood's\", 'elite,', 'including', 'Denzel', 'Washington,', 'Lupita', \"Nyong'o,\", 'Nicole', 'Kidman,', 'Emma', 'Stone,', 'Ryan', 'Reynolds,', 'Amy', 'Adams', 'and', 'Dev', 'Patel'], ['\\n\\nStalmaster,', '88,', 'credited', 'with', 'securing', 'career-defining', 'roles', 'for', 'actors', 'such', 'as', 'Jeff', 'Bridges,', 'Andy', 'Garcia,', 'Christopher', 'Reeve', 'and', 'John', 'Travolta,', 'is', 'the', 'first', 'casting', 'director', 'to', 'receive', 'an', 'Oscar'], ['']]\n",
      "276\n",
      "14\n",
      "59.36\n",
      "48.166666666666664\n"
     ]
    }
   ],
   "source": [
    "with open(file_path, 'r') as f:\n",
    "    text = f.read()\n",
    "    sentence = re.split('[.?!]|[ \\\"]\\n+', text)\n",
    "\n",
    "    s_words = [s.split(' ') for s in sentence] #An array of sentences\n",
    "    number_of_sentences = len(s_words)\n",
    "    \n",
    "    words = [s for s in s_words] #This is a list of each word in the text\n",
    "    \n",
    "    len_of_words = [] #This is a list of the length of each word in the text\n",
    "    word_len = 0\n",
    "    total_words = 0\n",
    "    #Get the number of letters in each word, append to list letters\n",
    "    #Length of this list is the number of words in the text\n",
    "    \n",
    "    for w in words:   \n",
    "        word_len = len(w)\n",
    "        len_of_words.append(word_len)\n",
    "    \n",
    "    #Split the text by end of line or space preceded by ending punctuation\n",
    "    number_of_sentences = len(s_words)\n",
    "    \n",
    "    sentence_length = [len(s) for s in s_words] #The number of words in each sentence\n",
    "    \n",
    "    for s in sentence_length:\n",
    "        total_words += s #calculate the total number of words \n",
    "        \n",
    "    avg_words_in_sentence = total_words/len(s_length)\n",
    "    \n",
    "    total_letters = 0\n",
    "    for i in letters:\n",
    "        total_letters += i\n",
    "    \n",
    "\n",
    "    print(number_of_words) \n",
    "    print(len(sentence))\n",
    "    print(format(total_letters/len(words), '.2f'))\n",
    "    print(avg_words_in_sentence)"
   ]
  },
  {
   "cell_type": "code",
   "execution_count": 60,
   "metadata": {},
   "outputs": [
    {
     "name": "stdout",
     "output_type": "stream",
     "text": [
      "Paragraph Analysis\n",
      "-----------------\n",
      "\n",
      "Approximate Word Count: 276\n",
      "Approximate Sentence Count: 14\n",
      "Average Letter Count: 3.01\n",
      "Average Sentence Length: 48.17\n"
     ]
    }
   ],
   "source": [
    "    print(\"Paragraph Analysis\\n-----------------\\n\")\n",
    "    print(f\"Approximate Word Count: {number_of_words}\")\n",
    "    print(f\"Approximate Sentence Count: {number_of_sentences}\")\n",
    "    print(f\"Average Letter Count: {format(total_letters/number_of_words, '.2f')}\")\n",
    "    print(f\"Average Sentence Length: {format(avg_words_in_sentence, '.2f')}\")\n"
   ]
  }
 ],
 "metadata": {
  "kernelspec": {
   "display_name": "Python 3",
   "language": "python",
   "name": "python3"
  },
  "language_info": {
   "codemirror_mode": {
    "name": "ipython",
    "version": 3
   },
   "file_extension": ".py",
   "mimetype": "text/x-python",
   "name": "python",
   "nbconvert_exporter": "python",
   "pygments_lexer": "ipython3",
   "version": "3.6.6"
  }
 },
 "nbformat": 4,
 "nbformat_minor": 2
}
