{
 "cells": [
  {
   "cell_type": "code",
   "execution_count": 9,
   "metadata": {},
   "outputs": [],
   "source": [
    "#This script examines the word, sentence, and character counts in a body of text\n",
    "import re\n",
    "import os\n",
    "\n",
    "file_path = os.path.join(\"raw_data\", \"paragraph_1.txt\")"
   ]
  },
  {
   "cell_type": "code",
   "execution_count": 4,
   "metadata": {
    "scrolled": true
   },
   "outputs": [],
   "source": [
    "with open(file_path, 'r') as f:\n",
    "    text = f.read()\n",
    "    #Split the text on ending punctuation or line break\n",
    "    sentences = re.split('[.?!]|[ \\\"]\\n+', text)\n",
    "    #Length of resulting list is approx. number of sentences\n",
    "    no_sentences = len(sentences)\n",
    "    \n",
    "    tot_words = 0\n",
    "    tot_letters = 0\n",
    "    #Split the sentences on space to create list of words in list of sentences\n",
    "    words = [s.split(' ') for s in sentences]\n",
    "    for w in words:\n",
    "        tot_words += len(w)\n",
    "        for l in w:\n",
    "            tot_letters += len(l)"
   ]
  },
  {
   "cell_type": "code",
   "execution_count": 5,
   "metadata": {},
   "outputs": [
    {
     "name": "stdout",
     "output_type": "stream",
     "text": [
      "Paragraph Analysis\n",
      "-----------------\n",
      "\n",
      "Approximate Word Count: 135\n",
      "Approximate Sentence Count: 6\n",
      "Average Letter Count: 6.12\n",
      "Average Sentence Length: 22.50\n"
     ]
    }
   ],
   "source": [
    "    print(\"Paragraph Analysis\\n-----------------\\n\")\n",
    "    print(f\"Approximate Word Count: {tot_words}\")\n",
    "    print(f\"Approximate Sentence Count: {len(sentences)}\")\n",
    "    print(f\"Average Letter Count: {format(tot_letters/tot_words, '.2f')}\")\n",
    "    print(f\"Average Sentence Length: {format(tot_words/len(sentences), '.2f')}\")\n"
   ]
  }
 ],
 "metadata": {
  "kernelspec": {
   "display_name": "Python 3",
   "language": "python",
   "name": "python3"
  },
  "language_info": {
   "codemirror_mode": {
    "name": "ipython",
    "version": 3
   },
   "file_extension": ".py",
   "mimetype": "text/x-python",
   "name": "python",
   "nbconvert_exporter": "python",
   "pygments_lexer": "ipython3",
   "version": "3.6.6"
  }
 },
 "nbformat": 4,
 "nbformat_minor": 2
}
