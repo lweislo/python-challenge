{
 "cells": [
  {
   "cell_type": "code",
   "execution_count": 7,
   "metadata": {},
   "outputs": [],
   "source": [
    "import os\n",
    "import csv\n",
    "import logging\n",
    "from statistics import mean"
   ]
  },
  {
   "cell_type": "code",
   "execution_count": 8,
   "metadata": {},
   "outputs": [],
   "source": [
    "filepath = os.path.join(\"Resources\", \"budget_data.csv\")"
   ]
  },
  {
   "cell_type": "code",
   "execution_count": 9,
   "metadata": {},
   "outputs": [],
   "source": [
    "with open(filepath, newline='') as csvfile:\n",
    "\n",
    "    # reading in the data to variable csvreader with delimiter comma\n",
    "    csvreader = csv.reader(csvfile, delimiter=',')\n",
    "\n",
    "    #Read the header row first\n",
    "    csv_header = next(csvreader)\n",
    "\n",
    "    #Set up the starting values for our statistics\n",
    "    month_count = 0\n",
    "    net_total = 0\n",
    "    net_change = []\n",
    "    change_month = []\n",
    "    last_value = 0\n",
    "\n",
    "    for row in csvreader:\n",
    "\n",
    "        budget = int(row[1])\n",
    "        month_count += 1\n",
    "        #Calculate the total budgets in the dataset on a rolling basis\n",
    "        net_total = net_total + budget\n",
    "        \n",
    "        #Calculate the difference between current value and previous value\n",
    "        if last_value != 0:\n",
    "            month_data = (budget - last_value)\n",
    "        #append the net change to the list\n",
    "            net_change.append(month_data)\n",
    "        #append the current month\n",
    "            change_month.append(row[0])\n",
    "        #now set the current budget to last_value to compare in the next iteration\n",
    "        last_value = budget"
   ]
  },
  {
   "cell_type": "code",
   "execution_count": 10,
   "metadata": {},
   "outputs": [],
   "source": [
    "#Calculate the average budget, max and min changes and grab the month\n",
    "    #using the same index as net_change on the change_month list\n",
    "avg_change = round(sum(net_change)/(month_count - 1), 2)\n",
    "max_profit = max(net_change)\n",
    "max_position = change_month[net_change.index(max(net_change))]\n",
    "min_profit = min(net_change)\n",
    "min_position = change_month[net_change.index(min(net_change))]"
   ]
  },
  {
   "cell_type": "code",
   "execution_count": 11,
   "metadata": {},
   "outputs": [
    {
     "name": "stdout",
     "output_type": "stream",
     "text": [
      "Financial Analysis \n",
      "--------------------\n",
      "Total Months: 86 \n",
      "Total: $38382578 \n",
      "Average Change: $ -2315.12 \n",
      "Greatest Increase in Profits: Feb-2012 ($1926159) \n",
      "Greatest Decrease in Profits: Sep-2013 ($-2196167) \n",
      " \n"
     ]
    }
   ],
   "source": [
    "with open('budget.txt', 'w') as f:\n",
    "    \n",
    "        output = (f\"\"\"Financial Analysis \\n--------------------\\nTotal Months: {month_count} \\nTotal: ${net_total} \\nAverage Change: $ {avg_change} \\nGreatest Increase in Profits: {max_position} (${max_profit}) \\nGreatest Decrease in Profits: {min_position} (${min_profit}) \\n \"\"\")\n",
    "\n",
    "        print(output)\n",
    "        f.write(output)\n",
    "    \n",
    "        f.close()"
   ]
  },
  {
   "cell_type": "code",
   "execution_count": null,
   "metadata": {},
   "outputs": [],
   "source": []
  }
 ],
 "metadata": {
  "kernelspec": {
   "display_name": "Python 3",
   "language": "python",
   "name": "python3"
  },
  "language_info": {
   "codemirror_mode": {
    "name": "ipython",
    "version": 3
   },
   "file_extension": ".py",
   "mimetype": "text/x-python",
   "name": "python",
   "nbconvert_exporter": "python",
   "pygments_lexer": "ipython3",
   "version": "3.6.6"
  }
 },
 "nbformat": 4,
 "nbformat_minor": 2
}
